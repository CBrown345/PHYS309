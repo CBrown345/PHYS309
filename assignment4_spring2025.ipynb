{
 "cells": [
  {
   "cell_type": "markdown",
   "id": "33885243",
   "metadata": {},
   "source": [
    "# Bohr models of ions\n",
    "\n",
    "The Bohr model works for atoms with only one electron. Adding electrons would require accounting for their mutual Coulomb forces, which would depend on the electrons' locations in their orbits. However, there are ions that have only one electron, for which a small modification to the Bohr model can predict their energy levels.\n",
    "\n",
    "Read the notebook <tt>Bohr_model_extensions.ipynb</tt>, which is on the class GitHub page. You will be using Equation 1 to compare the photon energy that correspond to energy level transitions in hydrogen, singly-ionized helium, and doubly-ionized lithium.\n",
    "\n",
    "Note: you are responsible for importing the packages you need and making sure your axis labels are large enough to be readable.\n",
    "\n",
    "1. Write a function that finds the photon <em>energy</em> in eV (calculate it from the wavelength predicted by the Rydberg equation) that moves an electron between levels $n$ and $n+1$. The independent variables of your function should be $Z$ (atomic number) and $n$. Do not hand-code any constants: use the pre-programmed values in <tt>scipy</tt>."
   ]
  },
  {
   "cell_type": "code",
   "execution_count": null,
   "id": "d20f0365",
   "metadata": {},
   "outputs": [],
   "source": [
    "import numpy as np\n",
    "import matplotlib.pyplot as plt\n",
    "plt.rcParams['text.usetex'] = True\n",
    "from scipy import constants"
   ]
  },
  {
   "cell_type": "code",
   "execution_count": null,
   "id": "d9969682",
   "metadata": {},
   "outputs": [],
   "source": [
    "# Your code here\n",
    "def ryd_eq_energy(k,Z): #multiplies rydberg equation by h to return photon energy\n",
    "    n = k+1\n",
    "    E = constants.c *constants.h * constants.Rydberg * (Z**2) * ( (1 / (n**2)) - (1/(k**2)))\n",
    "    return (E * 6.242e+18) #Convert to eV"
   ]
  },
  {
   "cell_type": "markdown",
   "id": "3eb29aa5",
   "metadata": {},
   "source": [
    "2. Use the python function of your choice to create an integer <em>array</em> (not list) of values $n = 1, 2, \\ldots, 10$. Do not simply hard-code in all the numbers by hand. Create a second array (not list) of atomic numbers $Z = 1, 2, 3$, again using a python function."
   ]
  },
  {
   "cell_type": "code",
   "execution_count": null,
   "id": "105af0f4",
   "metadata": {},
   "outputs": [],
   "source": [
    "# Your code here\n",
    "n = np.linspace(1, 10, 10, dtype = int)\n",
    "Z = np.linspace(1,3, 3, dtype = int)"
   ]
  },
  {
   "cell_type": "markdown",
   "id": "fdc267f4",
   "metadata": {},
   "source": [
    "3. For each combination of $Z$ and $n$, calculate the energy of light required to move from level $n$ to $n+1$. Store the results in an array with 3 rows and 10 columns. You may find the meshgrid command helpful."
   ]
  },
  {
   "cell_type": "code",
   "execution_count": null,
   "id": "fb38e7e0",
   "metadata": {},
   "outputs": [],
   "source": [
    "nv, Zv = np.meshgrid(n, Z)\n",
    "# Your code here\n",
    "#print(nv)\n",
    "#print(Zv)\n",
    "E_arr = np.zeros((3, 10))\n",
    "for i in range(0, 3, 1):\n",
    "    for j in range(0, 10, 1):\n",
    "        E_arr[i][j] = ryd_eq_energy(nv[i][j], Zv[i][j])"
   ]
  },
  {
   "cell_type": "markdown",
   "id": "4ce0665f",
   "metadata": {},
   "source": [
    "<ol start=4>\n",
    "    <li>Now you are going to make a color-coded plot. With $n$ on the x-axis and $z$ on the y-axis, add a circle to your plot at each $(n,z)$ ordered pair with the color determined by the energy calculated in question 3. Make sure your plot has a colorbar to show the energy scale, and put units on the colorbar. x and y axes should also be labeled.</li>\n",
    "</ol>\n",
    "\n",
    "I am including an example plot showing arbitrary dependent variable $w$ on a color scale as a function of independent variables $u$ and $v$. None of these variables mean anything; this example is just to help you visualize what your plot should look like."
   ]
  },
  {
   "cell_type": "code",
   "execution_count": null,
   "id": "4585afc3",
   "metadata": {},
   "outputs": [],
   "source": [
    "#Commented out because I ran it on my device an broke the output\n",
    "# from PIL import Image\n",
    "# sample = Image.open(\"color_coded_scatter_example.png\")\n",
    "# display(sample)"
   ]
  },
  {
   "cell_type": "markdown",
   "id": "ecf1d35d",
   "metadata": {},
   "source": [
    "Code that might help you make your plot is in the cell below. You are free to do something else if you prefer."
   ]
  },
  {
   "cell_type": "code",
   "execution_count": 57,
   "id": "d4c9baa3",
   "metadata": {},
   "outputs": [
    {
     "data": {
      "text/plain": [
       "Text(0.5, 0, 'Energy Level$(n)$')"
      ]
     },
     "execution_count": 57,
     "metadata": {},
     "output_type": "execute_result"
    },
    {
     "data": {
      "image/png": "[encoded data removed]",
      "text/plain": [
       "<Figure size 800x1600 with 2 Axes>"
      ]
     },
     "metadata": {},
     "output_type": "display_data"
    }
   ],
   "source": [
    "from mpl_toolkits.axes_grid1 import make_axes_locatable\n",
    "\n",
    "fig, ax = plt.subplots(1, 1, figsize=(8,16))\n",
    "\n",
    "plot1 = ax.scatter(nv, Zv, c=  E_arr,  cmap = \"plasma\") # Look up how to make a color-coded scatter plot\n",
    "ax.set_aspect('equal')\n",
    "\n",
    "# Create a colorbar axis on the right side of ax. The width of cax will be 8%\n",
    "# of ax and the padding between cax and ax will be fixed at 0.1 inch.\n",
    "divider = make_axes_locatable(ax)\n",
    "cax = divider.append_axes(\"right\", size=\"8%\", pad=0.1)\n",
    "cbar = plt.colorbar(plot1, cax=cax)\n",
    "cbar.ax.tick_params(labelsize=12) \n",
    "cbar.set_label(r\"Photon Energy [eV]\")\n",
    "ax.set_title(r\"Energy Difference Between $n$ and $n+1$ Levels\")\n",
    "ax.set_ylabel(r\"Atomic Number ($Z$)\")\n",
    "ax.set_xlabel(r\"Energy Level$(n)$\")"
   ]
  }
 ],
 "metadata": {
  "kernelspec": {
   "display_name": "Python 3",
   "language": "python",
   "name": "python3"
  },
  "language_info": {
   "codemirror_mode": {
    "name": "ipython",
    "version": 3
   },
   "file_extension": ".py",
   "mimetype": "text/x-python",
   "name": "python",
   "nbconvert_exporter": "python",
   "pygments_lexer": "ipython3",
   "version": "3.13.2"
  }
 },
 "nbformat": 4,
 "nbformat_minor": 5
}
