{
 "cells": [
  {
   "cell_type": "markdown",
   "id": "07467641",
   "metadata": {},
   "source": [
    "$\\Large\\text{The Quantum Harmonic Oscillator}$"
   ]
  },
  {
   "cell_type": "markdown",
   "id": "630a92eb",
   "metadata": {},
   "source": [
    "In classical mechanics, an oscillator is governed by Hooke's Law, $F = -kx$ = ma, where $k$ is a constant. Solving this equation yields $x(t) = A\\cos{(\\omega t + \\phi)}$, where $\\omega = \\sqrt{\\frac{k}{m}}$. The potential energy, $V(x)$, of this system is given by,\n",
    "\\begin{equation*}\n",
    "    V(x) = \\frac{1}{2}kx^2 = \\frac{1}{2}m\\omega^2x^2.\n",
    "\\end{equation*}\n",
    "The idea behind the quantum harmonic oscillator is to solve the time independent Schrödinger equation for this potential energy. That is,\n",
    "\\begin{equation*}\n",
    "    E\\psi(x) = \\hat{H}\\psi=\\frac{\\hat{p}^2}{2m}\\psi(x) + \\frac{1}{2}m\\omega^2 x^2\\psi(x). \\ \\ \\ \\ (1)\n",
    "\\end{equation*}"
   ]
  },
  {
   "cell_type": "markdown",
   "id": "bdf4b9ed",
   "metadata": {},
   "source": [
    "This equation can be solved analytically, using algebraic tricks. Rearranging Equation 1 (and writing $\\psi(x)$ as $\\psi$ from here on out),\n",
    "\\begin{equation*}\n",
    "    E\\psi = \\frac{1}{2m}\\left[ \\hat{p}^2 + (m \\omega x)^2\\right]\\psi. \\ \\ \\ \\ (2)\n",
    "\\end{equation*}\n",
    "The trick is to \"factor\" the bracketed term. However, doing this is not as simple as factoring numbers (i.e. $a^2 + b^2 = (a + bi)(a - bi)$) since instead it is operators being factored. To begin, define the operators $\\hat{a}_+$ and $\\hat{a}_-$ such that,\n",
    "\\begin{equation*}\n",
    "    \\hat{a}_\\pm \\equiv \\frac{1}{\\sqrt{2\\omega \\hbar m}}(\\mp i\\^p + m\\omega x).\n",
    "\\end{equation*}"
   ]
  },
  {
   "cell_type": "markdown",
   "id": "68ce2b9e",
   "metadata": {},
   "source": [
    "This method of factoring is slightly misleading, since $\\hat{a}_+\\hat{a}_- \\neq \\hat{a}_-\\hat{a}_+$ That is, the operators may not necessarily \"commute\". This prompts evaulating $\\hat{a}_+$ and $\\hat{a}_-$'s commutator, defined for two operators as,\n",
    "\\begin{equation*}\n",
    "\\left[ \\hat{A}, \\hat{B}\\right] = \\hat{A}\\hat{B}- \\hat{B}\\hat{A}.\n",
    "\\end{equation*}\n",
    "Starting with $\\hat{a}_+\\hat{a}_-$,\n",
    "\\begin{equation*}\n",
    "    \\hat{a}_+\\hat{a}_-= \\frac{1}{2\\hbar m\\omega}(-i\\hat{p} + m\\omega x)(i\\hat{p} + m\\omega x)=\\frac{1}{2\\hbar m\\omega}\\left[  \\hat{p}^2 + (m \\omega x)^2 - i m \\omega \\red{(\\hat{p}x - x\\hat{p} )}\\right].\n",
    "\\end{equation*}"
   ]
  },
  {
   "cell_type": "markdown",
   "id": "ba14ce06",
   "metadata": {},
   "source": [
    "The term highlighted in red can be recognized as the the commutator of $\\hat{p}$ and $x$, $[\\hat{p}, x]$. This is refered to as the Canonical Commutation Relation, and is equal to $-i\\hbar$. Therefore, \n",
    "\\begin{equation*}\n",
    "    \\hat{a}_+\\hat{a}_-=\\frac{1}{2\\hbar m\\omega}\\left[  \\hat{p}^2 + (m \\omega x)^2 - i m \\omega (-i\\hbar)\\right] = \\frac{1}{2\\hbar m\\omega}\\left[  \\hat{p}^2 + (m \\omega x)^2 \\right] - \\frac{1}{2} = \\frac{1}{\\hbar \\omega}\\hat{H} - \\frac{1}{2}.\n",
    "\\end{equation*}\n",
    "And, following the same method,\n",
    "\\begin{equation*}\n",
    "    \\hat{a}_-\\hat{a}_+ =  \\frac{1}{\\hbar \\omega}\\hat{H} + \\frac{1}{2}.\n",
    "\\end{equation*}"
   ]
  },
  {
   "cell_type": "markdown",
   "id": "b2807b42",
   "metadata": {},
   "source": []
  }
 ],
 "metadata": {
  "language_info": {
   "name": "python"
  }
 },
 "nbformat": 4,
 "nbformat_minor": 5
}
